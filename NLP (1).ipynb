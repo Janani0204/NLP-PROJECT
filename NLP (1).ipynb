{
 "cells": [
  {
   "cell_type": "code",
   "execution_count": 1,
   "id": "3b31bbf6-00c6-4140-a9ed-347d2481a0ea",
   "metadata": {},
   "outputs": [
    {
     "name": "stdout",
     "output_type": "stream",
     "text": [
      "Requirement already satisfied: nltk in c:\\users\\janani\\anaconda3\\lib\\site-packages (3.8.1)\n",
      "Requirement already satisfied: click in c:\\users\\janani\\anaconda3\\lib\\site-packages (from nltk) (8.1.7)\n",
      "Requirement already satisfied: joblib in c:\\users\\janani\\anaconda3\\lib\\site-packages (from nltk) (1.2.0)\n",
      "Requirement already satisfied: regex>=2021.8.3 in c:\\users\\janani\\anaconda3\\lib\\site-packages (from nltk) (2023.10.3)\n",
      "Requirement already satisfied: tqdm in c:\\users\\janani\\anaconda3\\lib\\site-packages (from nltk) (4.65.0)\n",
      "Requirement already satisfied: colorama in c:\\users\\janani\\anaconda3\\lib\\site-packages (from click->nltk) (0.4.6)\n"
     ]
    }
   ],
   "source": [
    "!pip install nltk\n"
   ]
  },
  {
   "cell_type": "code",
   "execution_count": 2,
   "id": "4a3b762e-916a-4f65-ba62-5cbb484f19aa",
   "metadata": {},
   "outputs": [],
   "source": [
    "import nltk\n",
    "import random\n",
    "import re\n",
    "import json\n"
   ]
  },
  {
   "cell_type": "code",
   "execution_count": 3,
   "id": "990228ed-6e7a-4045-bae8-d0f4cadb9e54",
   "metadata": {},
   "outputs": [],
   "source": [
    "\n",
    "responses = {\n",
    "    \"greeting\": [\n",
    "        \"Hello! How can I help you today?\",\n",
    "        \"Hi there! What's on your mind today?\"\n",
    "    ],\n",
    "    \"goodbye\": [\n",
    "        \"Take care! I'm here if you need me.\",\n",
    "        \"Goodbye! Remember, you're not alone.\"\n",
    "    ],\n",
    "    \"stress\": [\n",
    "        \"It sounds like you're feeling stressed. Try taking deep breaths, or perhaps consider journaling your thoughts.\",\n",
    "        \"Stress can be tough. Maybe a short walk or some relaxation techniques might help.\"\n",
    "    ],\n",
    "    \"sadness\": [\n",
    "        \"I'm really sorry you're feeling sad. Would you like to talk more about it?\",\n",
    "        \"Sadness is a tough emotion. It's important to express it. What's been on your mind lately?\"\n",
    "    ],\n",
    "    \"anxiety\": [\n",
    "        \"Anxiety can be overwhelming. Deep breathing or mindfulness might help ease it.\",\n",
    "        \"It's okay to feel anxious. Sometimes it helps to talk about what's causing it.\"\n",
    "    ],\n",
    "    \"help\": [\n",
    "        \"If you ever feel like you need professional help, don't hesitate to reach out to a mental health expert.\",\n",
    "        \"I'm here to listen, but if you're feeling really down, it might be helpful to talk to a therapist or counselor.\"\n",
    "    ]\n",
    "}\n",
    "\n",
    "patterns = {\n",
    "    \"greeting\": [r\"hello\", r\"hi\", r\"hey\", r\"howdy\"],\n",
    "    \"goodbye\": [r\"bye\", r\"goodbye\", r\"see you\", r\"take care\"],\n",
    "    \"stress\": [r\"stress\", r\"overwhelmed\", r\"anxious\", r\"tired\", r\"work\"],\n",
    "    \"sadness\": [r\"sad\", r\"depressed\", r\"down\", r\"unhappy\"],\n",
    "    \"anxiety\": [r\"anxious\", r\"worry\", r\"nervous\", r\"stressed\"]\n",
    "}\n"
   ]
  },
  {
   "cell_type": "code",
   "execution_count": 4,
   "id": "3911f14e-46b2-4e75-bbe2-ea81ccb9a286",
   "metadata": {},
   "outputs": [],
   "source": [
    "def match_intent(user_input):\n",
    "    for intent, patterns_list in patterns.items():\n",
    "        for pattern in patterns_list:\n",
    "            if re.search(pattern, user_input, re.IGNORECASE):\n",
    "                return intent\n",
    "    return None\n"
   ]
  },
  {
   "cell_type": "code",
   "execution_count": 5,
   "id": "5d71bc5f-c486-4e77-8bd3-18e2edad80d6",
   "metadata": {},
   "outputs": [],
   "source": [
    "def get_response(intent):\n",
    "    if intent in responses:\n",
    "        return random.choice(responses[intent])\n",
    "    else:\n",
    "        return \"I'm here to listen. Please tell me more.\"\n"
   ]
  },
  {
   "cell_type": "code",
   "execution_count": 6,
   "id": "8f7b3d24-b6e9-4574-8bb4-37bc726d97b1",
   "metadata": {},
   "outputs": [],
   "source": [
    "def chatbot():\n",
    "    print(\"Hello! I'm your mental health assistant. How can I help you today?\")\n",
    "    \n",
    "    while True:\n",
    "        user_input = input(\"You: \")\n",
    "        if 'goodbye' in user_input.lower():\n",
    "            print(random.choice(responses['goodbye']))\n",
    "            break\n",
    "        \n",
    "        intent = match_intent(user_input)\n",
    "        if intent:\n",
    "            response = get_response(intent)\n",
    "            print(\"Bot: \" + response)\n",
    "        else:\n",
    "            print(\"Bot: I'm not sure I understand. Can you tell me more?\")\n"
   ]
  },
  {
   "cell_type": "code",
   "execution_count": 7,
   "id": "8ec657f0-88dd-40aa-8c60-ddefa924ccc7",
   "metadata": {},
   "outputs": [
    {
     "name": "stdout",
     "output_type": "stream",
     "text": [
      "Hello! I'm your mental health assistant. How can I help you today?\n"
     ]
    },
    {
     "name": "stdin",
     "output_type": "stream",
     "text": [
      "You:  I'm feeling really stressed.\n"
     ]
    },
    {
     "name": "stdout",
     "output_type": "stream",
     "text": [
      "Bot: Stress can be tough. Maybe a short walk or some relaxation techniques might help.\n"
     ]
    },
    {
     "name": "stdin",
     "output_type": "stream",
     "text": [
      "You:  I'm just really overwhelmed with work.\n"
     ]
    },
    {
     "name": "stdout",
     "output_type": "stream",
     "text": [
      "Bot: It sounds like you're feeling stressed. Try taking deep breaths, or perhaps consider journaling your thoughts.\n"
     ]
    },
    {
     "name": "stdin",
     "output_type": "stream",
     "text": [
      "You:  Goodbye.\n"
     ]
    },
    {
     "name": "stdout",
     "output_type": "stream",
     "text": [
      "Goodbye! Remember, you're not alone.\n"
     ]
    }
   ],
   "source": [
    "chatbot()\n"
   ]
  },
  {
   "cell_type": "code",
   "execution_count": null,
   "id": "caf4eba1-ac17-4712-9ca5-0804feead94e",
   "metadata": {},
   "outputs": [],
   "source": []
  }
 ],
 "metadata": {
  "kernelspec": {
   "display_name": "Python 3 (ipykernel)",
   "language": "python",
   "name": "python3"
  },
  "language_info": {
   "codemirror_mode": {
    "name": "ipython",
    "version": 3
   },
   "file_extension": ".py",
   "mimetype": "text/x-python",
   "name": "python",
   "nbconvert_exporter": "python",
   "pygments_lexer": "ipython3",
   "version": "3.11.7"
  }
 },
 "nbformat": 4,
 "nbformat_minor": 5
}
